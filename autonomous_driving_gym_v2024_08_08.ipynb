{
  "nbformat": 4,
  "nbformat_minor": 0,
  "metadata": {
    "colab": {
      "provenance": []
    },
    "kernelspec": {
      "name": "python3",
      "display_name": "Python 3"
    },
    "language_info": {
      "name": "python"
    }
  },
  "cells": [
    {
      "cell_type": "code",
      "source": [
        "!pip install swig\n",
        "!pip install gymnasium[box2D]\n",
        "!pip install stable_baselines3"
      ],
      "metadata": {
        "id": "kcdeMTmr1l-S"
      },
      "execution_count": null,
      "outputs": []
    },
    {
      "cell_type": "code",
      "execution_count": null,
      "metadata": {
        "id": "4qASuf1o1IFk"
      },
      "outputs": [],
      "source": [
        "!git clone https://gitlab.unimelb.edu.au/ai4r/ai4r-gym.git"
      ]
    },
    {
      "cell_type": "code",
      "source": [
        "%cd ai4r-gym"
      ],
      "metadata": {
        "id": "Vioqx1Rb1_PY"
      },
      "execution_count": null,
      "outputs": []
    },
    {
      "cell_type": "code",
      "source": [
        "import ai4rgym\n",
        "import numpy as np\n",
        "import matplotlib.pyplot as plt\n",
        "import gymnasium as gym\n",
        "from stable_baselines3 import PPO, SAC, DDPG"
      ],
      "metadata": {
        "id": "vMrhAAlE2ila"
      },
      "execution_count": null,
      "outputs": []
    },
    {
      "cell_type": "markdown",
      "source": [
        "### Specify the Vehicle Parameters\n",
        "\n",
        "Dictionary with car specifications,\n",
        "in the form of a dynamic bicycle model"
      ],
      "metadata": {
        "id": "KdUyqNCx2dvg"
      }
    },
    {
      "cell_type": "code",
      "source": [
        "bicycle_model_parameters = {\n",
        "    \"Lf\" : 0.55*2.875,\n",
        "    \"Lr\" : 0.45*2.875,\n",
        "    \"m\"  : 2000.0,\n",
        "    \"Iz\" : (1.0/12.0) * 2000.0 * (4.692**2+1.850**2),\n",
        "    \"Cm\" : (1.0/100.0) * (1.0 * 400.0 * 9.0) / 0.2286,\n",
        "    \"Cd\" : 0.5 * 0.24 * 2.2204 * 1.202,\n",
        "    \"delta_offset\" : 0 * np.pi/180,\n",
        "    \"delta_request_max\" : 45 * np.pi/180,\n",
        "    \"Ddelta_lower_limit\" : -45 * np.pi/180,\n",
        "    \"Ddelta_upper_limit\" :  45 * np.pi/180,\n",
        "    \"v_transition_min\" : 500.0 / 3.6,\n",
        "    \"v_transition_max\" : 600.0 / 3.6,\n",
        "    \"body_len_f\" : (0.55*2.875) * 1.5,\n",
        "    \"body_len_r\" : (0.45*2.875) * 1.5,\n",
        "    \"body_width\" : 2.50,\n",
        "}"
      ],
      "metadata": {
        "id": "PFXr8MMT2C3Y"
      },
      "execution_count": null,
      "outputs": []
    },
    {
      "cell_type": "markdown",
      "source": [
        "### Specify the Road\n",
        "\n",
        "\n",
        "Specified as a list of dictionaries, where each\n",
        "element in the list specifies a segment of the road.\n",
        "Example segment dictionaries:\n",
        "```Python\n",
        "{\"type\":\"straight\", \"length\":3.0}\n",
        "{\"type\":\"curved\", \"curvature\":1/50.0, \"angle_in_degrees\":45.0}\n",
        "{\"type\":\"curved\", \"curvature\":1/50.0, \"length\":30.0}\n",
        "```"
      ],
      "metadata": {
        "id": "EZvLBp0Y2oca"
      }
    },
    {
      "cell_type": "code",
      "source": [
        "road_elements_list = [\n",
        "    {\"type\":\"straight\", \"length\":100.0},\n",
        "    {\"type\":\"curved\", \"curvature\":1/800.0, \"angle_in_degrees\":15.0},\n",
        "    {\"type\":\"straight\", \"length\":100.0},\n",
        "    {\"type\":\"curved\", \"curvature\":-1/400.0, \"angle_in_degrees\":30.0},\n",
        "    {\"type\":\"straight\", \"length\":100.0},\n",
        "]"
      ],
      "metadata": {
        "id": "TCXqw6rF2Cz1"
      },
      "execution_count": null,
      "outputs": []
    },
    {
      "cell_type": "markdown",
      "source": [
        "### Specify the Numerical Integration Details\n",
        "\n",
        "The options available for the numerical\n",
        "integration method are:\n",
        "`[\"euler\", \"huen\", \"midpoint\", \"rk4\", \"rk45\"]`\n"
      ],
      "metadata": {
        "id": "7-Fn5qyh2r69"
      }
    },
    {
      "cell_type": "code",
      "source": [
        "numerical_integration_parameters = {\n",
        "    \"method\" : \"rk4\",\n",
        "    \"Ts\" : 0.05,\n",
        "    \"num_steps_per_Ts\" : 1,\n",
        "}"
      ],
      "metadata": {
        "id": "2e5yTWLP2CwX"
      },
      "execution_count": null,
      "outputs": []
    },
    {
      "cell_type": "markdown",
      "source": [
        "###  Specify the Initial State Distribution\n",
        "\n",
        "The initial state is sampled from a uniform\n",
        "distribution between the minimum and maximum\n",
        "(i.e., between lower and upper bounds)\n",
        "> Note: a factor of (1/3.6) converts from units of [km/h] to [m/s]"
      ],
      "metadata": {
        "id": "l4j-7ygm2xLw"
      }
    },
    {
      "cell_type": "code",
      "source": [
        "py_init_min = -1.0\n",
        "py_init_max =  1.0\n",
        "\n",
        "v_init_min_in_kmh = 55.0\n",
        "v_init_max_in_kmh = 65.0\n",
        "\n",
        "initial_state_bounds = {\n",
        "    \"px_init_min\" : 0.0,\n",
        "    \"px_init_max\" : 0.0,\n",
        "    \"py_init_min\" : py_init_min,\n",
        "    \"py_init_max\" : py_init_max,\n",
        "    \"theta_init_min\" : 0.0,\n",
        "    \"theta_init_max\" : 0.0,\n",
        "    \"vx_init_min\" : v_init_min_in_kmh * (1.0/3.6),\n",
        "    \"vx_init_max\" : v_init_max_in_kmh * (1.0/3.6),\n",
        "    \"vy_init_min\" : 0.0,\n",
        "    \"vy_init_max\" : 0.0,\n",
        "    \"omega_init_min\" : 0.0,\n",
        "    \"omega_init_max\" : 0.0,\n",
        "    \"delta_init_min\" : 0.0,\n",
        "    \"delta_init_max\" : 0.0,\n",
        "}"
      ],
      "metadata": {
        "id": "xFOpyqMd2xkG"
      },
      "execution_count": null,
      "outputs": []
    },
    {
      "cell_type": "markdown",
      "source": [
        "### Specify the Observation Parameters"
      ],
      "metadata": {
        "id": "UB-aBfdd20iz"
      }
    },
    {
      "cell_type": "code",
      "source": [
        "observation_parameters = {\n",
        "    \"should_include_ground_truth_px\"                       :  \"info\",\n",
        "    \"should_include_ground_truth_py\"                       :  \"info\",\n",
        "    \"should_include_ground_truth_theta\"                    :  \"info\",\n",
        "    \"should_include_ground_truth_vx\"                       :  \"info\",\n",
        "    \"should_include_ground_truth_vy\"                       :  \"info\",\n",
        "    \"should_include_ground_truth_omega\"                    :  \"info\",\n",
        "    \"should_include_ground_truth_delta\"                    :  \"info\",\n",
        "    \"should_include_road_progress_at_closest_point\"        :  \"obs\",\n",
        "    \"should_include_vx_sensor\"                             :  \"obs\",\n",
        "    \"should_include_distance_to_closest_point\"             :  \"obs\",\n",
        "    \"should_include_heading_angle_relative_to_line\"        :  \"obs\",\n",
        "    \"should_include_heading_angular_rate_gyro\"             :  \"obs\",\n",
        "    \"should_include_accel_in_body_frame_x\"                 :  \"neither\",\n",
        "    \"should_include_accel_in_body_frame_y\"                 :  \"neither\",\n",
        "    \"should_include_closest_point_coords_in_body_frame\"    :  \"obs\",\n",
        "    \"should_include_look_ahead_line_coords_in_body_frame\"  :  \"obs\",\n",
        "    \"should_include_road_curvature_at_closest_point\"       :  \"obs\",\n",
        "    \"should_include_look_ahead_road_curvatures\"            :  \"obs\",\n",
        "    \"should_include_gps_line_coords_in_world_frame\"        :  \"neither\",\n",
        "\n",
        "    \"scaling_for_ground_truth_px\"                       :  1/1000.0,\n",
        "    \"scaling_for_ground_truth_py\"                       :  1/1000.0,\n",
        "    \"scaling_for_ground_truth_theta\"                    :  1.0,\n",
        "    \"scaling_for_ground_truth_vx\"                       :  1/100.0,\n",
        "    \"scaling_for_ground_truth_vy\"                       :  1/100.0,\n",
        "    \"scaling_for_ground_truth_omega\"                    :  1.0,\n",
        "    \"scaling_for_ground_truth_delta\"                    :  1.0,\n",
        "    \"scaling_for_road_progress_at_closest_point\"        :  1/1000.0,\n",
        "    \"scaling_for_vx_sensor\"                             :  1/100.0,\n",
        "    \"scaling_for_distance_to_closest_point\"             :  1/100.0,\n",
        "    \"scaling_for_heading_angle_relative_to_line\"        :  1.0,\n",
        "    \"scaling_for_heading_angular_rate_gyro\"             :  1.0,\n",
        "    \"scaling_for_accel_in_body_frame_x\"                 :  1/10.0,\n",
        "    \"scaling_for_accel_in_body_frame_y\"                 :  1/10.0,\n",
        "    \"scaling_for_closest_point_coords_in_body_frame\"    :  1/100.0,\n",
        "    \"scaling_for_look_ahead_line_coords_in_body_frame\"  :  1/100.0,\n",
        "    \"scaling_for_road_curvature_at_closest_point\"       :  1.0,\n",
        "    \"scaling_for_look_ahead_road_curvatures\"            :  1.0,\n",
        "    \"scaling_for_gps_line_coords_in_world_frame\"        :  1/1000.0,\n",
        "\n",
        "    \"vx_sensor_bias\"   : 0.0,\n",
        "    \"vx_sensor_stddev\" : 0.1,\n",
        "\n",
        "    \"distance_to_closest_point_bias\"    :  0.0,\n",
        "    \"distance_to_closest_point_stddev\"  :  0.05,\n",
        "\n",
        "    \"heading_angle_relative_to_line_bias\"    :  0.0,\n",
        "    \"heading_angle_relative_to_line_stddev\"  :  0.01,\n",
        "\n",
        "    \"heading_angular_rate_gyro_bias\"    :  0.0,\n",
        "    \"heading_angular_rate_gyro_stddev\"  :  0.0,\n",
        "\n",
        "    \"closest_point_coords_in_body_frame_bias\"    :  0.0,\n",
        "    \"closest_point_coords_in_body_frame_stddev\"  :  0.0,\n",
        "\n",
        "    \"look_ahead_line_coords_in_body_frame_bias\"    :  0.0,\n",
        "    \"look_ahead_line_coords_in_body_frame_stddev\"  :  0.0,\n",
        "\n",
        "    \"road_curvature_at_closest_point_bias\"    :  0.0,\n",
        "    \"road_curvature_at_closest_point_stddev\"  :  0.0,\n",
        "\n",
        "    \"look_ahead_road_curvatures_bias\"    :  0.0,\n",
        "    \"look_ahead_road_curvatures_stddev\"  :  0.0,\n",
        "\n",
        "    \"look_ahead_line_coords_in_body_frame_distance\"             :  100.0,\n",
        "    \"look_ahead_line_coords_in_body_frame_num_points\"           :  10,\n",
        "    \"look_ahead_line_coords_in_body_frame_stddev_lateral\"       :  0.0,\n",
        "    \"look_ahead_line_coords_in_body_frame_stddev_longitudinal\"  :  0.0,\n",
        "}"
      ],
      "metadata": {
        "id": "WdTlLQE36PUX"
      },
      "execution_count": null,
      "outputs": []
    },
    {
      "cell_type": "markdown",
      "source": [
        "### Initialise the Autonomous Driving Environment\n",
        "\n",
        "Options available for the \"render_mode\" are:\n",
        "`[\"matplotlib\", None]`"
      ],
      "metadata": {
        "id": "QvkR3qZm27ua"
      }
    },
    {
      "cell_type": "code",
      "source": [
        "env = gym.make(\n",
        "    \"ai4rgym/autonomous_driving_env\",\n",
        "    render_mode=None,\n",
        "    bicycle_model_parameters=bicycle_model_parameters,\n",
        "    road_elements_list=road_elements_list,\n",
        "    numerical_integration_parameters=numerical_integration_parameters,\n",
        "    initial_state_bounds=initial_state_bounds,\n",
        "    observation_parameters=observation_parameters,\n",
        ")"
      ],
      "metadata": {
        "id": "tCAOQ0AE25iF"
      },
      "execution_count": null,
      "outputs": []
    },
    {
      "cell_type": "markdown",
      "source": [
        "### Additional Setup"
      ],
      "metadata": {
        "id": "QhoYSGEW3AJ1"
      }
    },
    {
      "cell_type": "code",
      "source": [
        "# > Time increment per simulation step (units: seconds)\n",
        "Ts_sim = 0.05\n",
        "\n",
        "# Specify the integration method to simulate\n",
        "integration_method = \"rk4\"\n",
        "\n",
        "# Set the integration method and Ts of the gymnasium\n",
        "env.unwrapped.set_integration_method(integration_method)\n",
        "env.unwrapped.set_integration_Ts(Ts_sim)\n",
        "# Set the road condition\n",
        "env.unwrapped.set_road_condition(road_condition=\"wet\")"
      ],
      "metadata": {
        "id": "qPVqdwYT29qR"
      },
      "execution_count": null,
      "outputs": []
    },
    {
      "cell_type": "code",
      "source": [
        "# Reset the gymnasium\n",
        "# > which also returns the first observation\n",
        "observation, info_dict = env.reset()"
      ],
      "metadata": {
        "id": "3gdnT5i33Bhw"
      },
      "execution_count": null,
      "outputs": []
    },
    {
      "cell_type": "code",
      "source": [
        "observation"
      ],
      "metadata": {
        "id": "zchNh_TL3DOE"
      },
      "execution_count": null,
      "outputs": []
    },
    {
      "cell_type": "code",
      "source": [
        "info_dict"
      ],
      "metadata": {
        "id": "eI-M55-z3EPz"
      },
      "execution_count": null,
      "outputs": []
    },
    {
      "cell_type": "code",
      "source": [
        "env.observation_space"
      ],
      "metadata": {
        "id": "VGAzcpLL3GfO"
      },
      "execution_count": null,
      "outputs": []
    },
    {
      "cell_type": "code",
      "source": [
        "env.action_space"
      ],
      "metadata": {
        "id": "34cB5qYp7SZG"
      },
      "execution_count": null,
      "outputs": []
    },
    {
      "cell_type": "code",
      "source": [
        "random_action = env.action_space.sample()"
      ],
      "metadata": {
        "id": "wVyWdy607UTe"
      },
      "execution_count": null,
      "outputs": []
    },
    {
      "cell_type": "code",
      "source": [
        "observation, reward, terminated, truncated, info = env.step(random_action)"
      ],
      "metadata": {
        "id": "guAJPyam7ZiE"
      },
      "execution_count": null,
      "outputs": []
    },
    {
      "cell_type": "code",
      "source": [
        "observation"
      ],
      "metadata": {
        "id": "pcn-AKpv7dWj"
      },
      "execution_count": null,
      "outputs": []
    },
    {
      "cell_type": "code",
      "source": [
        "reward"
      ],
      "metadata": {
        "id": "xaTK3udm7eBb"
      },
      "execution_count": null,
      "outputs": []
    },
    {
      "cell_type": "code",
      "source": [
        "info"
      ],
      "metadata": {
        "id": "T6sVR-Cj7euG"
      },
      "execution_count": null,
      "outputs": []
    },
    {
      "cell_type": "code",
      "source": [],
      "metadata": {
        "id": "PS-N89P87inV"
      },
      "execution_count": null,
      "outputs": []
    },
    {
      "cell_type": "markdown",
      "source": [
        "## Reward Wrapper"
      ],
      "metadata": {
        "id": "b9C8Ub1D8nNB"
      }
    },
    {
      "cell_type": "code",
      "source": [
        "class RewardWrapper(gym.Wrapper):\n",
        "    def __init__(self, env):\n",
        "        super(RewardWrapper, self).__init__(env)\n",
        "\n",
        "    def step(self, action):\n",
        "        observation, reward, terminated, truncated, info = self.env.step(action)\n",
        "        reward = reward * 1000.0\n",
        "\n",
        "        # Implement additional rewards/penalties here\n",
        "\n",
        "        return observation, reward, terminated, truncated, info"
      ],
      "metadata": {
        "id": "OGlRTmON8mcL"
      },
      "execution_count": null,
      "outputs": []
    },
    {
      "cell_type": "markdown",
      "source": [
        "Create a new environment and wrap it with the Reward Wrapper"
      ],
      "metadata": {
        "id": "se7pfJLC9gVD"
      }
    },
    {
      "cell_type": "code",
      "source": [
        "env = gym.make(\n",
        "    \"ai4rgym/autonomous_driving_env\",\n",
        "    render_mode=None,\n",
        "    bicycle_model_parameters=bicycle_model_parameters,\n",
        "    road_elements_list=road_elements_list,\n",
        "    numerical_integration_parameters=numerical_integration_parameters,\n",
        "    initial_state_bounds=initial_state_bounds,\n",
        "    observation_parameters=observation_parameters,\n",
        ")\n",
        "\n",
        "# > Time increment per simulation step (units: seconds)\n",
        "Ts_sim = 0.05\n",
        "\n",
        "# Specify the integration method to simulate\n",
        "integration_method = \"rk4\"\n",
        "\n",
        "# Set the integration method and Ts of the gymnasium\n",
        "env.unwrapped.set_integration_method(integration_method)\n",
        "env.unwrapped.set_integration_Ts(Ts_sim)\n",
        "# Set the road condition\n",
        "env.unwrapped.set_road_condition(road_condition=\"wet\")\n",
        "\n",
        "env = RewardWrapper(env)"
      ],
      "metadata": {
        "id": "VPVyjOle9Wx-"
      },
      "execution_count": null,
      "outputs": []
    },
    {
      "cell_type": "markdown",
      "source": [
        "Let's check the reward now:"
      ],
      "metadata": {
        "id": "wg-Q9g7i9rok"
      }
    },
    {
      "cell_type": "code",
      "source": [
        "observation, info = env.reset()\n",
        "random_action = env.action_space.sample()\n",
        "observation, reward, terminated, truncated, info = env.step(random_action)\n",
        "print(reward)"
      ],
      "metadata": {
        "id": "RftxpP3B9qtD"
      },
      "execution_count": null,
      "outputs": []
    },
    {
      "cell_type": "markdown",
      "source": [
        "### Policy Definition"
      ],
      "metadata": {
        "id": "ilFe3Mwt7lWR"
      }
    },
    {
      "cell_type": "code",
      "source": [
        "model = PPO(\"MultiInputPolicy\", env, verbose = 1)\n",
        "#model = SAC(\"MultiInputPolicy\", env, verbose = 1)\n",
        "#model = DDPG(\"MultiInputPolicy\", env, verbose = 1)\n",
        "#model = TD3(\"MultiInputPolicy\", env, verbose = 1)\n",
        "#model = A2C(\"MultiInputPolicy\", env, verbose = 1)"
      ],
      "metadata": {
        "id": "DSIjEgi87neh"
      },
      "execution_count": null,
      "outputs": []
    },
    {
      "cell_type": "code",
      "source": [
        "model.learn(total_timesteps = 100000)"
      ],
      "metadata": {
        "id": "MZoIwt8O8G4o"
      },
      "execution_count": null,
      "outputs": []
    },
    {
      "cell_type": "markdown",
      "source": [
        "### Evaluating the Policy"
      ],
      "metadata": {
        "id": "Oo4LTUy97rHj"
      }
    },
    {
      "cell_type": "code",
      "source": [
        "def evaluate_policy(env, model, N_sim):\n",
        "    # Initialize arrays for storing trajectory data\n",
        "    px_traj = np.empty(N_sim + 1, dtype=np.float32)\n",
        "    py_traj = np.empty(N_sim + 1, dtype=np.float32)\n",
        "    theta_traj = np.empty(N_sim + 1, dtype=np.float32)\n",
        "    delta_traj = np.empty(N_sim + 1, dtype=np.float32)\n",
        "\n",
        "    # Reset the environment and get initial observation\n",
        "    observation, info = env.reset()\n",
        "    px_traj[0] = info[\"ground_truth_px\"][0]\n",
        "    py_traj[0] = info[\"ground_truth_py\"][0]\n",
        "    theta_traj[0] = info[\"ground_truth_theta\"][0]\n",
        "    delta_traj[0] = info[\"ground_truth_delta\"][0]\n",
        "\n",
        "    run_terminated = False\n",
        "\n",
        "    # Iterate over simulation steps\n",
        "    for i_step in range(N_sim):\n",
        "        action, _ = model.predict(observation, deterministic=True)\n",
        "        observation, reward, terminated, truncated, info = env.step(action)\n",
        "\n",
        "        # Update trajectory arrays\n",
        "        px_traj[i_step + 1] = info[\"ground_truth_px\"][0]\n",
        "        py_traj[i_step + 1] = info[\"ground_truth_py\"][0]\n",
        "        theta_traj[i_step + 1] = info[\"ground_truth_theta\"][0]\n",
        "        delta_traj[i_step + 1] = info[\"ground_truth_delta\"][0]\n",
        "\n",
        "        if terminated:\n",
        "            if not run_terminated:\n",
        "                run_terminated = True\n",
        "                break\n",
        "\n",
        "    return px_traj, py_traj, theta_traj, delta_traj"
      ],
      "metadata": {
        "id": "w2aekrpf7tzN"
      },
      "execution_count": null,
      "outputs": []
    },
    {
      "cell_type": "code",
      "source": [
        "def plot_and_animate_trajectory(env, px_traj, py_traj, theta_traj, delta_traj, Ts, path_for_saving_figures):\n",
        "    fig, axs = plt.subplots()\n",
        "    env.unwrapped.road.render_road(axs)\n",
        "    line, = axs.plot(px_traj, py_traj, label=\"Trajectory\")\n",
        "    axs.set_xlabel('px [meters]')\n",
        "    axs.set_ylabel('py [meters]')\n",
        "    axs.grid(True)\n",
        "    axs.set_aspect('equal', adjustable='box')\n",
        "    fig.legend()\n",
        "    fig.suptitle(\"Road and Trajectory\")\n",
        "    #plt.show()\n",
        "\n",
        "    # Saving the plot\n",
        "    fig.savefig(f\"{path_for_saving_figures}/trajectory_plot.pdf\")\n",
        "    print(f'Saved plot at {path_for_saving_figures}/trajectory_plot.pdf')\n",
        "\n",
        "    # Creating and saving an animation\n",
        "    ani = env.unwrapped.render_matplotlib_animation_of_trajectory(px_traj, py_traj, theta_traj, delta_traj, Ts, traj_increment=3)\n",
        "    ani.save(f\"{path_for_saving_figures}/trajectory_animation.gif\")\n",
        "    print(f'Saved animation at {path_for_saving_figures}/trajectory_animation.gif')\n",
        "    return ani"
      ],
      "metadata": {
        "id": "o7r1VKUJ778n"
      },
      "execution_count": null,
      "outputs": []
    },
    {
      "cell_type": "code",
      "source": [
        "path_for_saving_figures = '.'\n",
        "\n",
        "# Evaluating the Policy\n",
        "N_sim = 1000\n",
        "px_traj, py_traj, theta_traj, delta_traj = evaluate_policy(env, model, N_sim)\n",
        "\n",
        "# Plot and animate Trajectory\n",
        "ani = plot_and_animate_trajectory(\n",
        "    env, px_traj, py_traj, theta_traj, delta_traj, numerical_integration_parameters[\"Ts\"], path_for_saving_figures)"
      ],
      "metadata": {
        "id": "QUqtyaq-8d5D"
      },
      "execution_count": null,
      "outputs": []
    },
    {
      "cell_type": "code",
      "source": [
        "from IPython.display import HTML\n",
        "HTML(ani.to_jshtml())"
      ],
      "metadata": {
        "id": "l-fErufY_Ntf"
      },
      "execution_count": null,
      "outputs": []
    },
    {
      "cell_type": "code",
      "source": [],
      "metadata": {
        "id": "ZFXVN5-w_64Q"
      },
      "execution_count": null,
      "outputs": []
    }
  ]
}